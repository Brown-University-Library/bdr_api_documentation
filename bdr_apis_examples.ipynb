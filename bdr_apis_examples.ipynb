{
 "cells": [
  {
   "cell_type": "markdown",
   "metadata": {},
   "source": [
    "# BDR API info and examples\n",
    "\n",
    "The Brown Digital Repository is most known for its [website]. But it also has an [API]. \n",
    "\n",
    "An API (\"Application Programming Interface\") can be thought of as a protocol, or a structured way of communicating information. If you go to the BDR to perform a search, the webapp queries the BDR-API on that search-term. The API then returns structured data to the webapp, which uses it to display the web-page of results you see.\n",
    "\n",
    "The BDR API allows people to create their own web-pages or scripts that can access BDR data.\n",
    "\n",
    "The purpose of this page is to share examples of the kinds of BDR API queries people can make. This format of using a Jupyter notebook allows you to tweak the queries and interact with real BDR public data.\n",
    "\n",
    "[website]: <https://repository.library.brown.edu/studio/>\n",
    "[API]: <https://en.wikipedia.org/wiki/API>\n",
    "\n",
    "---\n",
    "\n",
    "## BDR website examples\n",
    "\n",
    "The BDR has a page showing [a few examples] of using the API.\n",
    "\n",
    "[a few examples]: <https://repository.library.brown.edu/studio/api-docs/>\n",
    "\n",
    "## Item API\n",
    "\n",
    "The first example shows a query to the `Item API`. \n",
    "\n",
    "Below is python code that accesses item-API information for the item: _\"Abe Lincoln as a babe, as a boy and youth: an overlooked interview\"_, shown on [this BDR web-page].\n",
    "\n",
    "[this BDR web-page]: <https://repository.library.brown.edu/studio/item/bdr:80246/>"
   ]
  },
  {
   "cell_type": "code",
   "execution_count": 12,
   "metadata": {},
   "outputs": [
    {
     "name": "stdout",
     "output_type": "stream",
     "text": [
      "item_api_url, ``https://repository.library.brown.edu/api/items/bdr:80246/``\n",
      "{ '_display_brown_bsi': False,\n",
      "  '_display_private_bsi': False,\n",
      "  '_display_public_bsi': True,\n",
      "  'abstract': ['Interview about Abraham Lincoln.'],\n",
      "  'api_links': { 'collections': { 'Lincoln Broadsides': 'https://repository.library.brown.edu/api/collections/bdr:26147/'},\n",
      "                 'keywords': { 'Childhood and youth': \"https://repository.library.brown.edu/api/search/?q='Childhood%20and%20youth'\"}},\n",
      "  'brief': { 'abstract': ['Interview about Abraham Lincoln.'],\n",
      "             'contributors': ['McIntyre, Duncan T. (creator)', 'Hanks, Dennis Friend, 1799-1892 (creator)'],\n",
      "             'date issued': ['1926'],\n",
      "             'extent': ['1 broadside; 54.3 x 40.2 cm.'],\n",
      "             'full_title': [ 'Abe Lincoln as a babe, as a boy and youth: an overlooked interview with Dennis F. Hanks, '\n",
      "                             'May 1892, a cousin and close companion of Lincoln'],\n",
      "             'keywords': ['Childhood and youth'],\n",
      "             'notes': [ 'Includes inset picture and biographical sketch ...``\n"
     ]
    }
   ],
   "source": [
    "import pprint, requests\n",
    "\n",
    "item_api_url_format = 'https://repository.library.brown.edu/api/items/PID/'\n",
    "pid = 'bdr:80246'  # a \"PID\" is a \"persistent identifier\" for an item in the repository\n",
    "\n",
    "item_api_url = item_api_url_format.replace( 'PID', pid )\n",
    "print( f'item_api_url, ``{item_api_url}``' )\n",
    "\n",
    "result = requests.get( item_api_url )  # this line queries the API\n",
    "data_dct: dict = r.json()  # this line converts the response to a dictionary (a series of key-value pairs)\n",
    "print( f'{pprint.pformat(data_dct, indent=2, width=120)[0:1000]}...``')  # this line prints a formatted, truncated part of the dictionary."
   ]
  },
  {
   "cell_type": "markdown",
   "metadata": {},
   "source": [
    "---\n",
    "\n",
    "If you wanted just to access the title from the returned data, you could do this:"
   ]
  },
  {
   "cell_type": "code",
   "execution_count": 18,
   "metadata": {},
   "outputs": [
    {
     "name": "stdout",
     "output_type": "stream",
     "text": [
      "full-title, ``Abe Lincoln as a babe, as a boy and youth: an overlooked interview with Dennis F. Hanks, May 1892, a cousin and close companion of Lincoln``\n"
     ]
    }
   ],
   "source": [
    "extracted_full_title: str = data_dct['brief']['full_title'][0]  # the zero is because this title is a list of one string; we're grabbing first element (the '0' element)\n",
    "print( f'full-title, ``{extracted_full_title}``')"
   ]
  },
  {
   "cell_type": "markdown",
   "metadata": {},
   "source": [
    "\n",
    "---\n",
    "\n",
    "Try taking away the `[0:1000]` in the print statement above, on line 11 -- to see a lot more info. Then try grabbing something other than the full-title. This notebook feature lets you freely experiment with queries -- nothing you do will be saved to this document."
   ]
  }
 ],
 "metadata": {
  "kernelspec": {
   "display_name": "env",
   "language": "python",
   "name": "python3"
  },
  "language_info": {
   "codemirror_mode": {
    "name": "ipython",
    "version": 3
   },
   "file_extension": ".py",
   "mimetype": "text/x-python",
   "name": "python",
   "nbconvert_exporter": "python",
   "pygments_lexer": "ipython3",
   "version": "3.8.18"
  }
 },
 "nbformat": 4,
 "nbformat_minor": 2
}
