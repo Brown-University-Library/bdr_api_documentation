{
 "cells": [
  {
   "cell_type": "code",
   "execution_count": null,
   "metadata": {},
   "outputs": [],
   "source": [
    "import requests\n",
    "\n",
    "url = 'https://repository.library.brown.edu/api/items/bdr:80246/'\n",
    "\n",
    "r = requests.get( url )\n",
    "\n",
    "print( r.json() )"
   ]
  }
 ],
 "metadata": {
  "language_info": {
   "name": "python"
  }
 },
 "nbformat": 4,
 "nbformat_minor": 2
}
